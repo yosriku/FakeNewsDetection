{
  "nbformat": 4,
  "nbformat_minor": 0,
  "metadata": {
    "colab": {
      "provenance": [],
      "gpuType": "T4"
    },
    "kernelspec": {
      "name": "python3",
      "display_name": "Python 3"
    },
    "language_info": {
      "name": "python"
    },
    "accelerator": "GPU"
  },
  "cells": [
    {
      "cell_type": "markdown",
      "source": [
        "Name: Yosriko Rahmat Karoni Sabelekake\n",
        "\n",
        "Dataset Source: https://data.mendeley.com/datasets/945z9xkc8d/1"
      ],
      "metadata": {
        "id": "W1A0lCFaQJSu"
      }
    },
    {
      "cell_type": "code",
      "execution_count": null,
      "metadata": {
        "id": "SLY8jJsEO8Ct"
      },
      "outputs": [],
      "source": [
        "import pandas as pd\n",
        "import numpy as np\n",
        "from sklearn.model_selection import train_test_split\n",
        "from sklearn.metrics import confusion_matrix, classification_report, accuracy_score\n",
        "import matplotlib.pyplot as plt\n",
        "import seaborn as sns\n",
        "from tensorflow import keras\n",
        "!pip install -q -U keras-tuner\n",
        "import keras_tuner as kt\n",
        "from keras_tuner import RandomSearch\n",
        "from google.colab import drive\n",
        "from tensorflow.keras.preprocessing.text import Tokenizer\n",
        "from tensorflow.keras.preprocessing.sequence import pad_sequences\n",
        "from tensorflow.keras.models import Sequential\n",
        "from tensorflow.keras.layers import Embedding, LSTM, Dense, SpatialDropout1D\n",
        "from tensorflow.keras.optimizers import Adam"
      ]
    },
    {
      "cell_type": "code",
      "source": [
        "drive.mount('/content/drive')"
      ],
      "metadata": {
        "colab": {
          "base_uri": "https://localhost:8080/"
        },
        "id": "_Xa68z0MQWhI",
        "outputId": "ba76634c-ffca-46dd-8942-28ea80c47866"
      },
      "execution_count": null,
      "outputs": [
        {
          "output_type": "stream",
          "name": "stdout",
          "text": [
            "Drive already mounted at /content/drive; to attempt to forcibly remount, call drive.mount(\"/content/drive\", force_remount=True).\n"
          ]
        }
      ]
    },
    {
      "cell_type": "code",
      "source": [
        "df_train = pd.read_csv('/content/drive/MyDrive/Self Projet NLP/train - train (1).csv')\n",
        "df_val = pd.read_csv('/content/drive/MyDrive/Self Projet NLP/test - test.csv')\n",
        "df_train.shape\n",
        "df_train.head()\n",
        "labels = df_train.label\n",
        "labels.head()\n",
        "print(df_train)\n",
        "\n"
      ],
      "metadata": {
        "colab": {
          "base_uri": "https://localhost:8080/"
        },
        "id": "rZBf925YSguZ",
        "outputId": "8378752a-4120-4ddd-ddf4-bb0021098d35"
      },
      "execution_count": null,
      "outputs": [
        {
          "output_type": "stream",
          "name": "stdout",
          "text": [
            "                                                    text  label\n",
            "0      dark agenda behind globalism open border altma...      0\n",
            "1      america poor still get shaft sami jamil jadall...      0\n",
            "2      number accuser grow former miss finland accuse...      0\n",
            "3      heroic prego advertisement replaces refresh we...      0\n",
            "4      russia syria debbie reynolds thursday even bri...      1\n",
            "...                                                  ...    ...\n",
            "16641  comment cost selfdriving taxi really sixtyseve...      0\n",
            "16642  interest duterte get billion china get money j...      0\n",
            "16643  forget encyclopaedia get pokiespedia home win ...      0\n",
            "16644  u election race huma abedin connection minute ...      0\n",
            "16645  shameful obama legacy white man beat viciously...      0\n",
            "\n",
            "[16646 rows x 2 columns]\n"
          ]
        }
      ]
    },
    {
      "source": [
        "# Mengisi nilai yang hilang dengan string kosong\n",
        "df_train['text'] = df_train['text'].fillna('')\n",
        "\n",
        "# Mengonversi semua nilai ke string\n",
        "df_train['text'] = df_train['text'].astype(str)\n",
        "df_val['text'] = df_val['text'].fillna('')\n",
        "df_val['text'] = df_val['text'].astype(str)\n",
        "\n",
        "# Tokenisasi dan Padding\n",
        "max_words = 1000\n",
        "max_len = 50\n",
        "tokenizer = Tokenizer(num_words=max_words, lower=True, split=' ')\n",
        "tokenizer.fit_on_texts(df_train['text'].values)\n",
        "\n",
        "X_train = tokenizer.texts_to_sequences(df_train['text'].values)\n",
        "X_train = pad_sequences(X_train, maxlen=max_len)\n",
        "\n",
        "X_test = tokenizer.texts_to_sequences(df_val['text'].values)\n",
        "X_test = pad_sequences(X_test, maxlen=max_len)\n",
        "\n",
        "y_train = df_train['label'].values\n",
        "y_test = df_val['label'].values\n",
        "\n",
        "# Memastikan data tidak ada lagi kesalahan tipe\n",
        "print(\"Example of preprocessed text sequences (X_train):\", X_train[:2])\n",
        "print(\"Example of labels (y_train):\", y_train[:2])\n"
      ],
      "cell_type": "code",
      "metadata": {
        "colab": {
          "base_uri": "https://localhost:8080/"
        },
        "id": "KjZKz_KkTtcL",
        "outputId": "dd972bea-61ec-4f07-af43-64bc0d5386f1"
      },
      "execution_count": null,
      "outputs": [
        {
          "output_type": "stream",
          "name": "stdout",
          "text": [
            "Example of preprocessed text sequences (X_train): [[270 379  60  13  55 555  26 362 262 362 139 527 254 255  65 131 264  52\n",
            "  254 783   9 377 575  92 340 249   6 481 211   6 586  40 369   6 520 501\n",
            "  679 382 270 355 194 104  38 112 199 988 608  24 163 250]\n",
            " [276 901 261 485 476  92 901 718 517 276 460 530 234  22   6 123  60 733\n",
            "  511  22 791   4  28 356 181 191 609 901 519 528 295  19   9  27  20   9\n",
            "   60 729   3  14 224 729 101 193 777 356  80 292  18 120]]\n",
            "Example of labels (y_train): [0 0]\n"
          ]
        }
      ]
    },
    {
      "cell_type": "code",
      "source": [
        "#Keras tuner acc: 89%\n",
        "# def build_model(hp):\n",
        "#     model = Sequential()\n",
        "#     model.add(Embedding(max_words, 128, input_length=max_len))\n",
        "#     model.add(SpatialDropout1D(0.2))\n",
        "#     model.add(LSTM(hp.Int('units', min_value=50, max_value=200, step=50), dropout=0.2, recurrent_dropout=0.2))\n",
        "#     model.add(Dense(1, activation='sigmoid'))\n",
        "\n",
        "#     model.compile(loss='binary_crossentropy',\n",
        "#                   optimizer=Adam(learning_rate=hp.Choice('learning_rate', values=[1e-4, 1e-3, 1e-2])),\n",
        "#                   metrics=['accuracy'])\n",
        "#     return model\n",
        "\n",
        "# tuner = RandomSearch(build_model, objective='val_accuracy', max_trials=5, executions_per_trial=3, directory='output', project_name='LSTM_tuning')\n",
        "# tuner.search(X_train, y_train, epochs=10, validation_data=(X_test, y_test))\n",
        "# best_model = tuner.get_best_models(num_models=1)[0]\n",
        "\n",
        "\n",
        "# Membangun model dengan TensorFlow\n",
        "model = keras.Sequential()\n",
        "model.add(keras.layers.Embedding(max_words, 128, input_length=max_len))\n",
        "model.add(keras.layers.SpatialDropout1D(0.2))\n",
        "model.add(keras.layers.LSTM(100, dropout=0.2, recurrent_dropout=0.2, return_sequences=True))\n",
        "model.add(keras.layers.LSTM(100, dropout=0.2, recurrent_dropout=0.2))\n",
        "model.add(keras.layers.Dense(50, activation='relu'))\n",
        "model.add(keras.layers.Dropout(0.5))\n",
        "model.add(keras.layers.Dense(1, activation='sigmoid'))\n",
        "\n",
        "model.compile(loss='binary_crossentropy', optimizer=Adam(learning_rate=1e-4), metrics=['accuracy'])\n",
        "\n",
        "# Melatih model\n",
        "history = model.fit(X_train, y_train, epochs=10, batch_size=64, validation_data=(X_test, y_test), verbose=2)\n",
        "\n"
      ],
      "metadata": {
        "colab": {
          "base_uri": "https://localhost:8080/"
        },
        "id": "TubHdR45ah5O",
        "outputId": "17cc0c4d-59b6-42f8-96ac-9887020b5317"
      },
      "execution_count": null,
      "outputs": [
        {
          "output_type": "stream",
          "name": "stderr",
          "text": [
            "WARNING:tensorflow:Layer lstm will not use cuDNN kernels since it doesn't meet the criteria. It will use a generic GPU kernel as fallback when running on GPU.\n",
            "WARNING:tensorflow:Layer lstm_1 will not use cuDNN kernels since it doesn't meet the criteria. It will use a generic GPU kernel as fallback when running on GPU.\n"
          ]
        },
        {
          "output_type": "stream",
          "name": "stdout",
          "text": [
            "Epoch 1/10\n",
            "261/261 - 114s - loss: 0.5235 - accuracy: 0.7453 - val_loss: 0.3824 - val_accuracy: 0.8235 - 114s/epoch - 439ms/step\n",
            "Epoch 2/10\n",
            "261/261 - 96s - loss: 0.3485 - accuracy: 0.8550 - val_loss: 0.3230 - val_accuracy: 0.8538 - 96s/epoch - 368ms/step\n",
            "Epoch 3/10\n",
            "261/261 - 94s - loss: 0.3086 - accuracy: 0.8713 - val_loss: 0.2952 - val_accuracy: 0.8729 - 94s/epoch - 359ms/step\n",
            "Epoch 4/10\n",
            "261/261 - 92s - loss: 0.2871 - accuracy: 0.8833 - val_loss: 0.2907 - val_accuracy: 0.8701 - 92s/epoch - 354ms/step\n",
            "Epoch 5/10\n",
            "261/261 - 96s - loss: 0.2647 - accuracy: 0.8945 - val_loss: 0.2682 - val_accuracy: 0.8857 - 96s/epoch - 368ms/step\n",
            "Epoch 6/10\n",
            "261/261 - 92s - loss: 0.2497 - accuracy: 0.8981 - val_loss: 0.2689 - val_accuracy: 0.8813 - 92s/epoch - 352ms/step\n",
            "Epoch 7/10\n",
            "261/261 - 95s - loss: 0.2424 - accuracy: 0.9039 - val_loss: 0.2707 - val_accuracy: 0.8850 - 95s/epoch - 366ms/step\n",
            "Epoch 8/10\n",
            "261/261 - 91s - loss: 0.2360 - accuracy: 0.9053 - val_loss: 0.2589 - val_accuracy: 0.8865 - 91s/epoch - 348ms/step\n",
            "Epoch 9/10\n",
            "261/261 - 89s - loss: 0.2296 - accuracy: 0.9091 - val_loss: 0.2565 - val_accuracy: 0.8880 - 89s/epoch - 342ms/step\n",
            "Epoch 10/10\n",
            "261/261 - 89s - loss: 0.2192 - accuracy: 0.9116 - val_loss: 0.2549 - val_accuracy: 0.8907 - 89s/epoch - 340ms/step\n"
          ]
        }
      ]
    },
    {
      "cell_type": "code",
      "source": [
        "# Evaluasi model\n",
        "y_pred = (model.predict(X_test) > 0.5).astype(\"int32\")\n",
        "\n",
        "# Confusion Matrix\n",
        "cm = confusion_matrix(y_test, y_pred)\n",
        "plt.figure(figsize=(5,5))\n",
        "sns.heatmap(cm, annot=True, fmt=\"d\", cmap=\"Blues\")\n",
        "plt.xlabel('Predicted')\n",
        "plt.ylabel('Actual')\n",
        "plt.title('Confusion Matrix')\n",
        "plt.show()\n",
        "\n",
        "# Classification Report\n",
        "print(classification_report(y_test, y_pred))\n",
        "print(\"Accuracy: \", accuracy_score(y_test, y_pred))\n"
      ],
      "metadata": {
        "colab": {
          "base_uri": "https://localhost:8080/",
          "height": 678
        },
        "id": "xKwOUyCkfT3o",
        "outputId": "40abeb70-2ed5-4ca2-d1f4-136838b1415f"
      },
      "execution_count": null,
      "outputs": [
        {
          "output_type": "stream",
          "name": "stdout",
          "text": [
            "127/127 [==============================] - 4s 29ms/step\n"
          ]
        },
        {
          "output_type": "display_data",
          "data": {
            "text/plain": [
              "<Figure size 500x500 with 2 Axes>"
            ],
            "image/png": "[encoded data removed]"
          },
          "metadata": {}
        },
        {
          "output_type": "stream",
          "name": "stdout",
          "text": [
            "              precision    recall  f1-score   support\n",
            "\n",
            "           0       0.89      0.89      0.89      1979\n",
            "           1       0.90      0.89      0.89      2056\n",
            "\n",
            "    accuracy                           0.89      4035\n",
            "   macro avg       0.89      0.89      0.89      4035\n",
            "weighted avg       0.89      0.89      0.89      4035\n",
            "\n",
            "Accuracy:  0.8907063197026023\n"
          ]
        }
      ]
    }
  ]
}